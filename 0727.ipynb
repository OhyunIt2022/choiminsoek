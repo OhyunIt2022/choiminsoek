{
  "nbformat": 4,
  "nbformat_minor": 0,
  "metadata": {
    "colab": {
      "name": "0727.ipynb",
      "provenance": []
    },
    "kernelspec": {
      "name": "python3",
      "display_name": "Python 3"
    },
    "language_info": {
      "name": "python"
    }
  },
  "cells": [
    {
      "cell_type": "code",
      "source": [
        "while True:\n",
        "  사칙연산=input(\"사칙연산 기호(+,-,*,/)를 입력해주세요.\")\n",
        "  첫번째숫자=int(input(\"첫번째숫자를 입력해주세요.\"))\n",
        "  두번째숫자=int(input(\"두번째숫자를 입력해주세요.\"))\n",
        "\n",
        "\n",
        "  if 사칙연산==\"+\":\n",
        "    print(\"더하기입니다\")\n",
        "    print(첫번째숫자+두번째숫자)\n",
        "  elif 사칙연산==\"-\":\n",
        "   print(\"빼기입니다\")\n",
        "   print(첫번째숫자-두번째숫자)\n",
        "  elif 사칙연산==\"*\":\n",
        "    print(\"곱하기입니다\")\n",
        "    print(첫번째숫자*두번째숫자)\n",
        "  elif 사칙연산==\"/\":\n",
        "    print(\"나누기입니다\")\n",
        "    print(첫번째숫자/두번째숫자)\n",
        "  종료여부=input(\"종료하려면 1을 입력해주세요.\")\n",
        "  if 종료여부==\"1\":\n",
        "    print(\"종료합니다\")\n",
        "    break\n"
      ],
      "metadata": {
        "colab": {
          "base_uri": "https://localhost:8080/"
        },
        "id": "LoWMz2srFEaS",
        "outputId": "8f62c42c-d0fa-4590-8a5f-a09409b30375"
      },
      "execution_count": null,
      "outputs": [
        {
          "output_type": "stream",
          "name": "stdout",
          "text": [
            "사칙연산 기호(+,-,*,/)를 입력해주세요./\n",
            "첫번째숫자를 입력해주세요.1\n",
            "두번째숫자를 입력해주세요.2\n",
            "나누기입니다\n",
            "0.5\n",
            "종료하려면 1을 입력해주세요.1\n",
            "종료합니다\n"
          ]
        }
      ]
    },
    {
      "cell_type": "code",
      "source": [
        "def hello():\n",
        "  print(\"안녕하세요\")"
      ],
      "metadata": {
        "id": "MnX0WS4WIqUi"
      },
      "execution_count": 45,
      "outputs": []
    },
    {
      "cell_type": "code",
      "source": [
        "hello()"
      ],
      "metadata": {
        "colab": {
          "base_uri": "https://localhost:8080/"
        },
        "id": "8Jhc2XQELHpK",
        "outputId": "590205af-719d-49af-fc3b-e4207cb81105"
      },
      "execution_count": null,
      "outputs": [
        {
          "output_type": "stream",
          "name": "stdout",
          "text": [
            "안녕하세요\n"
          ]
        }
      ]
    },
    {
      "cell_type": "code",
      "source": [
        "def helloToName(name):\n",
        "  print(name,\"님 안녕하세요\")"
      ],
      "metadata": {
        "id": "i0IUfv20LKZV"
      },
      "execution_count": 32,
      "outputs": []
    },
    {
      "cell_type": "code",
      "source": [
        "helloToName(\"최민석\")"
      ],
      "metadata": {
        "colab": {
          "base_uri": "https://localhost:8080/"
        },
        "id": "vIzYEkoYLabY",
        "outputId": "218bc160-263e-4e2c-884d-1d2c4e953233"
      },
      "execution_count": 33,
      "outputs": [
        {
          "output_type": "stream",
          "name": "stdout",
          "text": [
            "최민석 님 안녕하세요\n"
          ]
        }
      ]
    },
    {
      "cell_type": "code",
      "source": [
        "def add(num,num2):\n",
        "  result = num+num2"
      ],
      "metadata": {
        "id": "O79xIn7nLhvJ"
      },
      "execution_count": 34,
      "outputs": []
    },
    {
      "cell_type": "code",
      "source": [
        "add(1,2)"
      ],
      "metadata": {
        "id": "xb4OcBmULypC"
      },
      "execution_count": 35,
      "outputs": []
    },
    {
      "cell_type": "code",
      "source": [
        "addResult=add(1,2)"
      ],
      "metadata": {
        "id": "xO9MpH-fL5Ld"
      },
      "execution_count": 36,
      "outputs": []
    },
    {
      "cell_type": "code",
      "source": [
        "print(addResult)"
      ],
      "metadata": {
        "colab": {
          "base_uri": "https://localhost:8080/"
        },
        "id": "w2ZofCLuMFEN",
        "outputId": "99ffeeef-5683-47e6-8c8c-e0336b1f9ecd"
      },
      "execution_count": 37,
      "outputs": [
        {
          "output_type": "stream",
          "name": "stdout",
          "text": [
            "None\n"
          ]
        }
      ]
    },
    {
      "cell_type": "code",
      "source": [
        "def add2(num,num2):\n",
        "  result = num+num2\n",
        "  return result"
      ],
      "metadata": {
        "id": "a2FaNjndMIjY"
      },
      "execution_count": 38,
      "outputs": []
    },
    {
      "cell_type": "code",
      "source": [
        "addResult2=add2(1,2)\n",
        "print(addResult2)"
      ],
      "metadata": {
        "colab": {
          "base_uri": "https://localhost:8080/"
        },
        "id": "dBIG4CnkMOot",
        "outputId": "233a7896-9d26-4219-ceb6-5368c0b75537"
      },
      "execution_count": 39,
      "outputs": [
        {
          "output_type": "stream",
          "name": "stdout",
          "text": [
            "3\n"
          ]
        }
      ]
    },
    {
      "cell_type": "code",
      "source": [
        "def add3(num,num2):\n",
        "  result = num+num2\n",
        "  return result\n",
        "  print(\"hi\")\n",
        "add3(1,2)"
      ],
      "metadata": {
        "colab": {
          "base_uri": "https://localhost:8080/"
        },
        "id": "SAESYBxxMYnV",
        "outputId": "7fa29313-e63e-4df7-eb71-5e7c599ddb63"
      },
      "execution_count": 40,
      "outputs": [
        {
          "output_type": "execute_result",
          "data": {
            "text/plain": [
              "3"
            ]
          },
          "metadata": {},
          "execution_count": 40
        }
      ]
    },
    {
      "cell_type": "code",
      "source": [
        "def x빼기y(y,x):\n",
        "  뺄셈결과=x-y\n",
        "  print (뺄셈결과)\n",
        "x빼기y(20,10)\n",
        "x빼기y(x=20,y=10)"
      ],
      "metadata": {
        "colab": {
          "base_uri": "https://localhost:8080/"
        },
        "id": "rZ_9M_XiNcaO",
        "outputId": "88816192-a54a-4fee-fa79-190ea3194a27"
      },
      "execution_count": 41,
      "outputs": [
        {
          "output_type": "stream",
          "name": "stdout",
          "text": [
            "-10\n",
            "10\n"
          ]
        }
      ]
    },
    {
      "cell_type": "code",
      "source": [
        "def 덧셈뺄셈(x,y):\n",
        "  덧셈결과 = x+y\n",
        "  뺄셈결과 = x-y\n",
        "  return 덧셈결과,뺄셈결과"
      ],
      "metadata": {
        "id": "FdGMiwcmT3yw"
      },
      "execution_count": 43,
      "outputs": []
    },
    {
      "cell_type": "code",
      "source": [
        "함수실행결과 =덧셈뺄셈(20,10)\n",
        "print(함수실행결과)\n",
        "print(type(함수실행결과))\n",
        "print(함수실행결과[0],함수실행결과[1])\n",
        "덧셈결과 = 함수실행결과[0]\n",
        "뺄셈결과 = 함수실행결과[1]\n",
        "print(덧셈결과)\n",
        "print(뺄셈결과)"
      ],
      "metadata": {
        "id": "wYykNRnSOJgl",
        "colab": {
          "base_uri": "https://localhost:8080/"
        },
        "outputId": "56eba3ab-6a88-463f-c62f-dfa6b546ca9a"
      },
      "execution_count": 44,
      "outputs": [
        {
          "output_type": "stream",
          "name": "stdout",
          "text": [
            "(30, 10)\n",
            "<class 'tuple'>\n",
            "30 10\n",
            "30\n",
            "10\n"
          ]
        }
      ]
    },
    {
      "cell_type": "code",
      "source": [
        "def 계산및출력(사칙연산,첫번째숫자,두번째숫자):\n",
        "  if 사칙연산==\"+\":\n",
        "    print(\"더하기입니다\")\n",
        "    print(첫번째숫자+두번째숫자)\n",
        "  elif 사칙연산==\"-\":\n",
        "   print(\"빼기입니다\")\n",
        "   print(첫번째숫자-두번째숫자)\n",
        "  elif 사칙연산==\"*\":\n",
        "    print(\"곱하기입니다\")\n",
        "    print(첫번째숫자*두번째숫자)\n",
        "  elif 사칙연산==\"/\":\n",
        "    print(\"나누기입니다\")\n",
        "    print(첫번째숫자/두번째숫자)"
      ],
      "metadata": {
        "id": "jD7-SkPZTpl0"
      },
      "execution_count": 51,
      "outputs": []
    },
    {
      "cell_type": "code",
      "source": [
        "계산및출력(사칙연산=\"4\",첫번째숫자=10,두번째숫자=20)"
      ],
      "metadata": {
        "id": "MnMmULPZXGCR"
      },
      "execution_count": 52,
      "outputs": []
    },
    {
      "cell_type": "code",
      "source": [
        "def 종료여부확인():\n",
        "  종료여부 = input(\"종료하려면 1을 입력해주세요\")\n",
        "  return 종료여부==\"1\""
      ],
      "metadata": {
        "id": "Y8_fPzDTXXJ6"
      },
      "execution_count": 53,
      "outputs": []
    },
    {
      "cell_type": "code",
      "source": [
        "종료여부확인()"
      ],
      "metadata": {
        "colab": {
          "base_uri": "https://localhost:8080/"
        },
        "id": "5LjvwdB3Xy9R",
        "outputId": "f80f5018-ddf6-40ec-daca-d0a7faf8cb9d"
      },
      "execution_count": 54,
      "outputs": [
        {
          "name": "stdout",
          "output_type": "stream",
          "text": [
            "종료하려면 1을 입력해주세요1\n"
          ]
        },
        {
          "output_type": "execute_result",
          "data": {
            "text/plain": [
              "True"
            ]
          },
          "metadata": {},
          "execution_count": 54
        }
      ]
    },
    {
      "cell_type": "code",
      "source": [
        "def 값입력하기():\n",
        "  사칙연산=input(\"사칙연산 기호(+,-,*,/)를 입력해주세요.\")\n",
        "  첫번째숫자=int(input(\"첫번째숫자를 입력해주세요.\"))\n",
        "  두번째숫자=int(input(\"두번째숫자를 입력해주세요.\"))\n",
        "  return 사칙연산,첫번째숫자,두번째숫자"
      ],
      "metadata": {
        "id": "H72YbvgzZUlK"
      },
      "execution_count": 67,
      "outputs": []
    },
    {
      "cell_type": "code",
      "source": [
        "def 계산기():\n",
        "    while True:\n",
        "      기호,첫번째숫자,두번째숫자=값입력하기()\n",
        "      계산및출력(기호,첫번째숫자,두번째숫자)\n",
        "      종료여부=종료여부확인()\n",
        "      if 종료여부:\n",
        "        break"
      ],
      "metadata": {
        "id": "ly_M5W8UX6hN"
      },
      "execution_count": 68,
      "outputs": []
    },
    {
      "cell_type": "code",
      "source": [
        "계산기()"
      ],
      "metadata": {
        "colab": {
          "base_uri": "https://localhost:8080/"
        },
        "id": "gkTXOA3IZDrk",
        "outputId": "e6be0f75-6004-4e84-dd6b-eaac22dd0c86"
      },
      "execution_count": 69,
      "outputs": [
        {
          "name": "stdout",
          "output_type": "stream",
          "text": [
            "사칙연산 기호(+,-,*,/)를 입력해주세요./\n",
            "첫번째숫자를 입력해주세요.1\n",
            "두번째숫자를 입력해주세요.2\n",
            "나누기입니다\n",
            "0.5\n",
            "종료하려면 1을 입력해주세요1\n"
          ]
        }
      ]
    },
    {
      "cell_type": "code",
      "source": [
        "num=1\n",
        "print(type(num))"
      ],
      "metadata": {
        "colab": {
          "base_uri": "https://localhost:8080/"
        },
        "id": "ACUHnBGQaHcQ",
        "outputId": "6b137c3a-33a6-4778-d1a2-ba9e95a7d0a9"
      },
      "execution_count": 70,
      "outputs": [
        {
          "output_type": "stream",
          "name": "stdout",
          "text": [
            "<class 'int'>\n"
          ]
        }
      ]
    },
    {
      "cell_type": "code",
      "source": [
        "strung=\"hello\"\n",
        "print(type(strung))"
      ],
      "metadata": {
        "colab": {
          "base_uri": "https://localhost:8080/"
        },
        "id": "NvM_I5XPi3bz",
        "outputId": "5cbddc38-1d44-4bd4-cd2b-ccea3e09e943"
      },
      "execution_count": 71,
      "outputs": [
        {
          "output_type": "stream",
          "name": "stdout",
          "text": [
            "<class 'str'>\n"
          ]
        }
      ]
    },
    {
      "cell_type": "code",
      "source": [
        "class Animal:\n",
        "  pass"
      ],
      "metadata": {
        "id": "QK8xTI1pjCOc"
      },
      "execution_count": 72,
      "outputs": []
    },
    {
      "cell_type": "code",
      "source": [
        "animal=Animal()\n",
        "print(type(animal))"
      ],
      "metadata": {
        "colab": {
          "base_uri": "https://localhost:8080/"
        },
        "id": "tI5jEmVrjfXw",
        "outputId": "82987349-7b86-42eb-f381-951390603636"
      },
      "execution_count": 73,
      "outputs": [
        {
          "output_type": "stream",
          "name": "stdout",
          "text": [
            "<class '__main__.Animal'>\n"
          ]
        }
      ]
    },
    {
      "cell_type": "code",
      "source": [
        "class Animal:\n",
        "  kor=\"동물\"\n",
        "  def 숨쉬기():\n",
        "    print(\"숨을 쉽니다\")\n",
        "  def 움직이기():\n",
        "    print(\"몸을 움직입니다\")"
      ],
      "metadata": {
        "id": "AcXiNfudjxZo"
      },
      "execution_count": 74,
      "outputs": []
    },
    {
      "cell_type": "code",
      "source": [
        "개=Animal()\n",
        "print(type(개))\n",
        "Animal.숨쉬기()\n",
        "Animal.움직이기()\n",
        "print(\"=========================\")\n",
        "개.숨쉬기()\n",
        "개.움직이기()"
      ],
      "metadata": {
        "colab": {
          "base_uri": "https://localhost:8080/",
          "height": 299
        },
        "id": "ija_KAWKkUfT",
        "outputId": "bd870cc7-9048-48c7-b6bc-b65417a56ef6"
      },
      "execution_count": 75,
      "outputs": [
        {
          "output_type": "stream",
          "name": "stdout",
          "text": [
            "<class '__main__.Animal'>\n",
            "숨을 쉽니다\n",
            "몸을 움직입니다\n",
            "=========================\n"
          ]
        },
        {
          "output_type": "error",
          "ename": "TypeError",
          "evalue": "ignored",
          "traceback": [
            "\u001b[0;31m---------------------------------------------------------------------------\u001b[0m",
            "\u001b[0;31mTypeError\u001b[0m                                 Traceback (most recent call last)",
            "\u001b[0;32m<ipython-input-75-be4d7a9c94eb>\u001b[0m in \u001b[0;36m<module>\u001b[0;34m()\u001b[0m\n\u001b[1;32m      4\u001b[0m \u001b[0mAnimal\u001b[0m\u001b[0;34m.\u001b[0m\u001b[0m움직이기\u001b[0m\u001b[0;34m(\u001b[0m\u001b[0;34m)\u001b[0m\u001b[0;34m\u001b[0m\u001b[0;34m\u001b[0m\u001b[0m\n\u001b[1;32m      5\u001b[0m \u001b[0mprint\u001b[0m\u001b[0;34m(\u001b[0m\u001b[0;34m\"=========================\"\u001b[0m\u001b[0;34m)\u001b[0m\u001b[0;34m\u001b[0m\u001b[0;34m\u001b[0m\u001b[0m\n\u001b[0;32m----> 6\u001b[0;31m \u001b[0m개\u001b[0m\u001b[0;34m.\u001b[0m\u001b[0m숨쉬기\u001b[0m\u001b[0;34m(\u001b[0m\u001b[0;34m)\u001b[0m\u001b[0;34m\u001b[0m\u001b[0;34m\u001b[0m\u001b[0m\n\u001b[0m\u001b[1;32m      7\u001b[0m \u001b[0m개\u001b[0m\u001b[0;34m.\u001b[0m\u001b[0m움직이기\u001b[0m\u001b[0;34m(\u001b[0m\u001b[0;34m)\u001b[0m\u001b[0;34m\u001b[0m\u001b[0;34m\u001b[0m\u001b[0m\n",
            "\u001b[0;31mTypeError\u001b[0m: 숨쉬기() takes 0 positional arguments but 1 was given"
          ]
        }
      ]
    },
    {
      "cell_type": "code",
      "source": [
        "class Animal:\n",
        "  kor=\"동물\"\n",
        "  def 숨쉬기(self):\n",
        "    print(\"숨을 쉽니다\")\n",
        "  def 움직이기(self):\n",
        "    print(\"몸을 움직입니다\")\n",
        "  def 말하기(self, 문장):\n",
        "    print(문장)\n",
        "animal=Animal()\n",
        "animal.숨쉬기()\n",
        "animal.움직이기()\n",
        "animal.말하기(\"안녕하세요\")\n",
        "print(animal.kor)"
      ],
      "metadata": {
        "colab": {
          "base_uri": "https://localhost:8080/"
        },
        "id": "i-zPVcc7kyQc",
        "outputId": "5e91114a-fa03-4c50-a126-6f055cf358cf"
      },
      "execution_count": 76,
      "outputs": [
        {
          "output_type": "stream",
          "name": "stdout",
          "text": [
            "숨을 쉽니다\n",
            "몸을 움직입니다\n",
            "안녕하세요\n",
            "동물\n"
          ]
        }
      ]
    },
    {
      "cell_type": "code",
      "source": [
        "class Animal:\n",
        "  kor=\"동물\"\n",
        "  def __init__(self):\n",
        "    print(\"태어났습니다\")\n",
        "  def 숨쉬기(self):\n",
        "    print(\"숨을 쉽니다\")\n",
        "  def 움직이기(self):\n",
        "    print(\"몸을 움직입니다\")\n",
        "  def 말하기(self, 문장):\n",
        "    print(문장)\n",
        "  def __del__(self):\n",
        "    print(\"죽었습니다\")\n",
        "animal=Animal()\n",
        "print(\"===================\")\n",
        "del animal"
      ],
      "metadata": {
        "colab": {
          "base_uri": "https://localhost:8080/"
        },
        "id": "Qt8EqOa7lsXK",
        "outputId": "e767ba24-c7ba-4986-e133-33b6c497eb5d"
      },
      "execution_count": 79,
      "outputs": [
        {
          "output_type": "stream",
          "name": "stdout",
          "text": [
            "태어났습니다\n",
            "===================\n",
            "죽었습니다\n"
          ]
        }
      ]
    },
    {
      "cell_type": "code",
      "source": [
        "class Animal:\n",
        "  def __init__(self,키,생일):\n",
        "    self.키=키\n",
        "    self.생일=생일\n",
        "    print(\"태어났습니다\")\n",
        "  def 키얻기(self):\n",
        "    print(f\"키는 {self.키}cm 입니다\")\n",
        "  def 생일얻기(self):\n",
        "    print(f\"생일은{self.생일} 입니다\")\n",
        "  def 숨쉬기(self):\n",
        "    print(\"숨을 쉽니다\")\n",
        "  def 움직이기(self):\n",
        "    print(\"몸을 움직입니다\")\n",
        "  def 말하기(self, 문장):\n",
        "    print(문장)\n",
        "  def __del__(self):\n",
        "    print(\"죽었습니다\")"
      ],
      "metadata": {
        "id": "i1XAv3rkmlXY"
      },
      "execution_count": 82,
      "outputs": []
    },
    {
      "cell_type": "code",
      "source": [
        "animal=Animal(키=30,생일=20220219)\n",
        "print(animal.키)\n",
        "animal.키얻기()"
      ],
      "metadata": {
        "colab": {
          "base_uri": "https://localhost:8080/"
        },
        "id": "SGH1mBLIpWec",
        "outputId": "cc8b9efe-c9e0-486d-c47c-4d56508e02d5"
      },
      "execution_count": 83,
      "outputs": [
        {
          "output_type": "stream",
          "name": "stdout",
          "text": [
            "태어났습니다\n",
            "30\n",
            "키는 30cm 입니다\n"
          ]
        }
      ]
    },
    {
      "cell_type": "code",
      "source": [
        "dir(animal)"
      ],
      "metadata": {
        "colab": {
          "base_uri": "https://localhost:8080/"
        },
        "id": "xWtnBZiSpFzK",
        "outputId": "cd5124d6-9155-4f3c-f649-c21bbf78dc32"
      },
      "execution_count": 84,
      "outputs": [
        {
          "output_type": "execute_result",
          "data": {
            "text/plain": [
              "['__class__',\n",
              " '__del__',\n",
              " '__delattr__',\n",
              " '__dict__',\n",
              " '__dir__',\n",
              " '__doc__',\n",
              " '__eq__',\n",
              " '__format__',\n",
              " '__ge__',\n",
              " '__getattribute__',\n",
              " '__gt__',\n",
              " '__hash__',\n",
              " '__init__',\n",
              " '__init_subclass__',\n",
              " '__le__',\n",
              " '__lt__',\n",
              " '__module__',\n",
              " '__ne__',\n",
              " '__new__',\n",
              " '__reduce__',\n",
              " '__reduce_ex__',\n",
              " '__repr__',\n",
              " '__setattr__',\n",
              " '__sizeof__',\n",
              " '__str__',\n",
              " '__subclasshook__',\n",
              " '__weakref__',\n",
              " '말하기',\n",
              " '생일',\n",
              " '생일얻기',\n",
              " '숨쉬기',\n",
              " '움직이기',\n",
              " '키',\n",
              " '키얻기']"
            ]
          },
          "metadata": {},
          "execution_count": 84
        }
      ]
    },
    {
      "cell_type": "code",
      "source": [
        "print(type(animal.말하기))"
      ],
      "metadata": {
        "colab": {
          "base_uri": "https://localhost:8080/"
        },
        "id": "7DW0eLipqWBI",
        "outputId": "6f6ca5d2-0624-43f9-fab5-668a43eb6295"
      },
      "execution_count": 86,
      "outputs": [
        {
          "output_type": "stream",
          "name": "stdout",
          "text": [
            "<class 'method'>\n"
          ]
        }
      ]
    },
    {
      "cell_type": "code",
      "source": [
        "class 개(Animal):\n",
        "  def 짖기(self):\n",
        "    print(\"멍\")"
      ],
      "metadata": {
        "id": "wzGx1syIqowY"
      },
      "execution_count": 87,
      "outputs": []
    },
    {
      "cell_type": "code",
      "source": [
        "요크셔 = 개(키=30,생일=\"오늘\")\n",
        "요크셔.짖기()"
      ],
      "metadata": {
        "colab": {
          "base_uri": "https://localhost:8080/"
        },
        "id": "3WNDvUIxq7nl",
        "outputId": "09b7edee-8fde-46dc-d492-6bd51ad5b5fb"
      },
      "execution_count": 88,
      "outputs": [
        {
          "output_type": "stream",
          "name": "stdout",
          "text": [
            "태어났습니다\n",
            "멍\n"
          ]
        }
      ]
    },
    {
      "cell_type": "code",
      "source": [
        "요크셔.키얻기()"
      ],
      "metadata": {
        "colab": {
          "base_uri": "https://localhost:8080/"
        },
        "id": "kiFiGHR6rEXr",
        "outputId": "c98786fe-7c69-4da9-e986-58566ced79c1"
      },
      "execution_count": 90,
      "outputs": [
        {
          "output_type": "stream",
          "name": "stdout",
          "text": [
            "키는 30cm 입니다\n"
          ]
        }
      ]
    },
    {
      "cell_type": "code",
      "source": [
        "del 요크셔"
      ],
      "metadata": {
        "colab": {
          "base_uri": "https://localhost:8080/"
        },
        "id": "7lfg66KYrVt5",
        "outputId": "14cad7c9-f2f1-41c2-b815-8f6b7a8bbe5e"
      },
      "execution_count": 91,
      "outputs": [
        {
          "output_type": "stream",
          "name": "stdout",
          "text": [
            "죽었습니다\n"
          ]
        }
      ]
    },
    {
      "cell_type": "code",
      "source": [
        ""
      ],
      "metadata": {
        "id": "5D59_t7TrqEt"
      },
      "execution_count": null,
      "outputs": []
    }
  ]
}