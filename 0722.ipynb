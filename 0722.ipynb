{
  "nbformat": 4,
  "nbformat_minor": 0,
  "metadata": {
    "colab": {
      "name": "0722.ipynb",
      "provenance": []
    },
    "kernelspec": {
      "name": "python3",
      "display_name": "Python 3"
    },
    "language_info": {
      "name": "python"
    }
  },
  "cells": [
    {
      "cell_type": "code",
      "execution_count": null,
      "metadata": {
        "colab": {
          "base_uri": "https://localhost:8080/"
        },
        "id": "5yxbdWx4iOtF",
        "outputId": "dd66c30d-fbdb-45b6-c4e2-fd269a7e7775"
      },
      "outputs": [
        {
          "output_type": "stream",
          "name": "stdout",
          "text": [
            "hello world!\n"
          ]
        }
      ],
      "source": [
        "print(\"hello world!\")"
      ]
    },
    {
      "cell_type": "code",
      "source": [
        "print(1)"
      ],
      "metadata": {
        "colab": {
          "base_uri": "https://localhost:8080/"
        },
        "id": "G_0lITYqjF7F",
        "outputId": "b5654d36-3eaf-4345-d07f-17520abf7eb1"
      },
      "execution_count": null,
      "outputs": [
        {
          "output_type": "stream",
          "name": "stdout",
          "text": [
            "1\n"
          ]
        }
      ]
    },
    {
      "cell_type": "code",
      "source": [
        "print(10)"
      ],
      "metadata": {
        "colab": {
          "base_uri": "https://localhost:8080/"
        },
        "id": "REUYZgwTjKbr",
        "outputId": "4461d103-dd92-41f3-aeec-8de93ceff00a"
      },
      "execution_count": null,
      "outputs": [
        {
          "output_type": "stream",
          "name": "stdout",
          "text": [
            "10\n"
          ]
        }
      ]
    },
    {
      "cell_type": "code",
      "source": [
        "문자=\"안녕하세요\""
      ],
      "metadata": {
        "id": "c2awxfDbkJRl"
      },
      "execution_count": null,
      "outputs": []
    },
    {
      "cell_type": "code",
      "source": [
        "print(문자)"
      ],
      "metadata": {
        "colab": {
          "base_uri": "https://localhost:8080/"
        },
        "id": "LT3yUezzjN60",
        "outputId": "edeeda15-2c3b-450b-e38f-7aea776b984a"
      },
      "execution_count": null,
      "outputs": [
        {
          "output_type": "stream",
          "name": "stdout",
          "text": [
            "안녕하세요\n"
          ]
        }
      ]
    },
    {
      "cell_type": "code",
      "source": [
        "print(\"\\\"\")"
      ],
      "metadata": {
        "colab": {
          "base_uri": "https://localhost:8080/"
        },
        "id": "D10_dsAJj2tG",
        "outputId": "aa8c9b34-9f15-4dd6-c3e2-a2c35c6ca3cb"
      },
      "execution_count": null,
      "outputs": [
        {
          "output_type": "stream",
          "name": "stdout",
          "text": [
            "\"\n"
          ]
        }
      ]
    },
    {
      "cell_type": "code",
      "source": [
        "print(\"안녕하세요\\b\")#\\b 는 백스페이스"
      ],
      "metadata": {
        "colab": {
          "base_uri": "https://localhost:8080/"
        },
        "id": "QgaR0VRSmyBo",
        "outputId": "a60ff911-3817-460d-b5ff-1410f4f663ab"
      },
      "execution_count": null,
      "outputs": [
        {
          "output_type": "stream",
          "name": "stdout",
          "text": [
            "안녕하세요\b\n"
          ]
        }
      ]
    },
    {
      "cell_type": "code",
      "source": [
        "print(\"안녕하\\n세요\")# \\n은 줄 바꿈"
      ],
      "metadata": {
        "colab": {
          "base_uri": "https://localhost:8080/"
        },
        "id": "6ax9va5rm6eD",
        "outputId": "3d3f458a-2c22-479b-c325-3c59f16494cc"
      },
      "execution_count": null,
      "outputs": [
        {
          "output_type": "stream",
          "name": "stdout",
          "text": [
            "안녕하\n",
            "세요\n"
          ]
        }
      ]
    },
    {
      "cell_type": "code",
      "source": [
        "print(\"안녕하\\t세요\")# \\t는 탭"
      ],
      "metadata": {
        "colab": {
          "base_uri": "https://localhost:8080/"
        },
        "id": "AKuRApytnTBL",
        "outputId": "b2b2c6d1-3713-464b-ea48-b0ddc4ba266e"
      },
      "execution_count": null,
      "outputs": [
        {
          "output_type": "stream",
          "name": "stdout",
          "text": [
            "안녕하\t세요\n"
          ]
        }
      ]
    },
    {
      "cell_type": "code",
      "source": [
        "print(\"안녕하\\\\세요\")"
      ],
      "metadata": {
        "colab": {
          "base_uri": "https://localhost:8080/"
        },
        "id": "7pmMaMqqnavU",
        "outputId": "dcc8c416-c54c-41cd-b29e-778cfc3889aa"
      },
      "execution_count": null,
      "outputs": [
        {
          "output_type": "stream",
          "name": "stdout",
          "text": [
            "안녕하\\세요\n"
          ]
        }
      ]
    },
    {
      "cell_type": "code",
      "source": [
        "print(\"\\\\\\\"(\\'.\\')\\\"/\")"
      ],
      "metadata": {
        "colab": {
          "base_uri": "https://localhost:8080/"
        },
        "id": "fd7XnB0BnjyU",
        "outputId": "eec41000-e5bb-4f63-9866-b8cebbafa76b"
      },
      "execution_count": null,
      "outputs": [
        {
          "output_type": "stream",
          "name": "stdout",
          "text": [
            "\\\"('.')\"/\n"
          ]
        }
      ]
    },
    {
      "cell_type": "code",
      "source": [
        "print(\"데이터1\",\"데이터2\",\"데이터3\")"
      ],
      "metadata": {
        "colab": {
          "base_uri": "https://localhost:8080/"
        },
        "id": "Fu1yAwWRn4by",
        "outputId": "be37bb6d-c8e4-4c3d-9afc-625b50ff3cdd"
      },
      "execution_count": null,
      "outputs": [
        {
          "output_type": "stream",
          "name": "stdout",
          "text": [
            "데이터1 데이터2 데이터3\n"
          ]
        }
      ]
    },
    {
      "cell_type": "code",
      "source": [
        "print(\"데이터1\",\"데이터2\",\"데이터3\",sep=\"\\n\",end=\"끝\")"
      ],
      "metadata": {
        "colab": {
          "base_uri": "https://localhost:8080/"
        },
        "id": "AzmyWIfXqB60",
        "outputId": "09c70b9a-04a0-442b-a024-6e1f88ac7e29"
      },
      "execution_count": null,
      "outputs": [
        {
          "output_type": "stream",
          "name": "stdout",
          "text": [
            "데이터1\n",
            "데이터2\n",
            "데이터3끝"
          ]
        }
      ]
    },
    {
      "cell_type": "code",
      "source": [
        "전화번호1=\"010\"\n",
        "전화번호2=\"2310\"\n",
        "전화번호3=\"3085\""
      ],
      "metadata": {
        "id": "CGUAeDadr862"
      },
      "execution_count": null,
      "outputs": []
    },
    {
      "cell_type": "code",
      "source": [
        "print(전화번호1,전화번호2,전화번호3,sep=\"-\")"
      ],
      "metadata": {
        "colab": {
          "base_uri": "https://localhost:8080/"
        },
        "id": "J57xlOmXq_pq",
        "outputId": "5756811b-2eef-4f94-f9d1-3d6db2c8c071"
      },
      "execution_count": null,
      "outputs": [
        {
          "output_type": "stream",
          "name": "stdout",
          "text": [
            "010-2310-3085\n"
          ]
        }
      ]
    },
    {
      "cell_type": "code",
      "source": [
        "이름 = \"최민석\""
      ],
      "metadata": {
        "id": "YmHxY0wYreGz"
      },
      "execution_count": null,
      "outputs": []
    },
    {
      "cell_type": "code",
      "source": [
        "print(이름)"
      ],
      "metadata": {
        "colab": {
          "base_uri": "https://localhost:8080/"
        },
        "id": "xXM_X1zsywnG",
        "outputId": "8befe7f0-b32c-46ab-ba01-352dffcfbefb"
      },
      "execution_count": null,
      "outputs": [
        {
          "output_type": "stream",
          "name": "stdout",
          "text": [
            "최민석\n"
          ]
        }
      ]
    },
    {
      "cell_type": "code",
      "source": [
        "반 = 3"
      ],
      "metadata": {
        "id": "A_W5VQPiy5q8"
      },
      "execution_count": null,
      "outputs": []
    },
    {
      "cell_type": "code",
      "source": [
        "print(반)"
      ],
      "metadata": {
        "colab": {
          "base_uri": "https://localhost:8080/"
        },
        "id": "xRw73jwJzI55",
        "outputId": "cddeee0e-2f91-4956-b968-d6fc05231329"
      },
      "execution_count": null,
      "outputs": [
        {
          "output_type": "stream",
          "name": "stdout",
          "text": [
            "3\n"
          ]
        }
      ]
    },
    {
      "cell_type": "code",
      "source": [
        "반_데이터타입 = type(반)\n",
        "print(type(반))"
      ],
      "metadata": {
        "colab": {
          "base_uri": "https://localhost:8080/"
        },
        "id": "qp-8G9s1zLiN",
        "outputId": "75047969-aad1-4153-f97e-06df408a79d9"
      },
      "execution_count": null,
      "outputs": [
        {
          "output_type": "stream",
          "name": "stdout",
          "text": [
            "<class 'int'>\n"
          ]
        }
      ]
    },
    {
      "cell_type": "code",
      "source": [
        "이름_데이터타입=type(이름)\n",
        "print(이름_데이터타입)"
      ],
      "metadata": {
        "colab": {
          "base_uri": "https://localhost:8080/"
        },
        "id": "6_cw8m0wzdtH",
        "outputId": "d0963381-0857-4d76-94d2-6a2c2de51fbd"
      },
      "execution_count": null,
      "outputs": [
        {
          "output_type": "stream",
          "name": "stdout",
          "text": [
            "<class 'str'>\n"
          ]
        }
      ]
    },
    {
      "cell_type": "code",
      "source": [
        "소수=0.5\n",
        "소수_데이터타입=type(소수)\n",
        "print(소수_데이터타입)"
      ],
      "metadata": {
        "colab": {
          "base_uri": "https://localhost:8080/"
        },
        "id": "ByXVga6qz2rt",
        "outputId": "8d2f9b59-0575-47a5-d8c6-acdd8cd31a1d"
      },
      "execution_count": null,
      "outputs": [
        {
          "output_type": "stream",
          "name": "stdout",
          "text": [
            "<class 'float'>\n"
          ]
        }
      ]
    },
    {
      "cell_type": "code",
      "source": [
        "print(0b10)"
      ],
      "metadata": {
        "colab": {
          "base_uri": "https://localhost:8080/"
        },
        "id": "H3q2pXz20BCG",
        "outputId": "8152a1f6-3f1e-4011-81d4-66abe7407177"
      },
      "execution_count": null,
      "outputs": [
        {
          "output_type": "stream",
          "name": "stdout",
          "text": [
            "2\n"
          ]
        }
      ]
    },
    {
      "cell_type": "code",
      "source": [
        "print(0o10)"
      ],
      "metadata": {
        "colab": {
          "base_uri": "https://localhost:8080/"
        },
        "id": "fHJl_rzI0pWr",
        "outputId": "fc9258c7-04e3-4311-9c8a-ddef60823023"
      },
      "execution_count": null,
      "outputs": [
        {
          "output_type": "stream",
          "name": "stdout",
          "text": [
            "8\n"
          ]
        }
      ]
    },
    {
      "cell_type": "code",
      "source": [
        "print(0x10)"
      ],
      "metadata": {
        "colab": {
          "base_uri": "https://localhost:8080/"
        },
        "id": "LJ76eGCq0tPO",
        "outputId": "204dcfdf-2b96-4e44-9ac1-63d7d2d20da1"
      },
      "execution_count": null,
      "outputs": [
        {
          "output_type": "stream",
          "name": "stdout",
          "text": [
            "16\n"
          ]
        }
      ]
    },
    {
      "cell_type": "code",
      "source": [
        "print(10+5)\n",
        "print(10-5)\n",
        "print(10/2)\n",
        "print(10*2)"
      ],
      "metadata": {
        "colab": {
          "base_uri": "https://localhost:8080/"
        },
        "id": "p35zi-8000Eq",
        "outputId": "05842b46-c5bc-4432-e8b5-099cc9572fba"
      },
      "execution_count": null,
      "outputs": [
        {
          "output_type": "stream",
          "name": "stdout",
          "text": [
            "15\n",
            "5\n",
            "5.0\n",
            "20\n"
          ]
        }
      ]
    },
    {
      "cell_type": "code",
      "source": [
        "print(2**3)"
      ],
      "metadata": {
        "colab": {
          "base_uri": "https://localhost:8080/"
        },
        "id": "soQLCkuh1Wul",
        "outputId": "ba02ceb7-23f3-497a-a387-c4b3c0c4194c"
      },
      "execution_count": null,
      "outputs": [
        {
          "output_type": "stream",
          "name": "stdout",
          "text": [
            "8\n"
          ]
        }
      ]
    },
    {
      "cell_type": "code",
      "source": [
        "print(15%10)"
      ],
      "metadata": {
        "colab": {
          "base_uri": "https://localhost:8080/"
        },
        "id": "4tbR-zWe1jOT",
        "outputId": "8994970b-57a9-42d2-bc7e-911a5bb9b3bf"
      },
      "execution_count": null,
      "outputs": [
        {
          "output_type": "stream",
          "name": "stdout",
          "text": [
            "5\n"
          ]
        }
      ]
    },
    {
      "cell_type": "code",
      "source": [
        "print(15//10)"
      ],
      "metadata": {
        "colab": {
          "base_uri": "https://localhost:8080/"
        },
        "id": "en9j9AOX10iW",
        "outputId": "1c196d4c-7a48-41af-f699-7c98e247b636"
      },
      "execution_count": null,
      "outputs": [
        {
          "output_type": "stream",
          "name": "stdout",
          "text": [
            "1\n"
          ]
        }
      ]
    },
    {
      "cell_type": "code",
      "source": [
        "문자열 = \"문자열 내용\"\n",
        "문자열2 = '문자열내용2'\n",
        "문자열3 = \"\"\"문자열 내용3\"\"\"\n",
        "문자열4 = '''문자열 내용4'''\n",
        "print(문자열)\n",
        "print(문자열2)\n",
        "print(문자열3)\n",
        "print(문자열4)"
      ],
      "metadata": {
        "colab": {
          "base_uri": "https://localhost:8080/"
        },
        "id": "3IDeI47t1-PI",
        "outputId": "5a320d25-9432-4da7-945a-709bd8acab7f"
      },
      "execution_count": null,
      "outputs": [
        {
          "output_type": "stream",
          "name": "stdout",
          "text": [
            "문자열 내용\n",
            "문자열내용2\n",
            "문자열 내용3\n",
            "문자열 내용4\n"
          ]
        }
      ]
    },
    {
      "cell_type": "code",
      "source": [
        "문자열5 = '''아니\n",
        "이게 \n",
        "무야\n",
        "'''"
      ],
      "metadata": {
        "id": "_20-iGRP3DxR"
      },
      "execution_count": null,
      "outputs": []
    },
    {
      "cell_type": "code",
      "source": [
        "print(문자열5)"
      ],
      "metadata": {
        "colab": {
          "base_uri": "https://localhost:8080/"
        },
        "id": "GkECUSqX3Mei",
        "outputId": "24e450cf-428e-41e4-a6e0-addd18438aff"
      },
      "execution_count": null,
      "outputs": [
        {
          "output_type": "stream",
          "name": "stdout",
          "text": [
            "아니\n",
            "이게 \n",
            "무야\n",
            "\n"
          ]
        }
      ]
    },
    {
      "cell_type": "code",
      "source": [
        "print(문자열4)"
      ],
      "metadata": {
        "colab": {
          "base_uri": "https://localhost:8080/"
        },
        "id": "d4z_yPew3OfG",
        "outputId": "a05f3ef3-e655-4a48-c0b3-d153a0486100"
      },
      "execution_count": null,
      "outputs": [
        {
          "output_type": "stream",
          "name": "stdout",
          "text": [
            "문자열 내용4\n"
          ]
        }
      ]
    },
    {
      "cell_type": "code",
      "source": [
        "dlfma=\"chlalstjr\"\n",
        "dlstk=\"dkssudgktpdy\"\n",
        "print(dlstk+\" \"+\"wjsms \"+dlfma+\"dlqslek\")"
      ],
      "metadata": {
        "colab": {
          "base_uri": "https://localhost:8080/"
        },
        "id": "GgljjhDF3V9u",
        "outputId": "6ce0aca9-19af-4e4e-ffcc-27ab4a670225"
      },
      "execution_count": null,
      "outputs": [
        {
          "output_type": "stream",
          "name": "stdout",
          "text": [
            "dkssudgktpdy wjsms chlalstjrdlqslek\n"
          ]
        }
      ]
    },
    {
      "cell_type": "code",
      "source": [
        "dlfmarlfdl = len(dlfma)\n",
        "print(dlfma)\n",
        "print(dlfmarlfdl)"
      ],
      "metadata": {
        "colab": {
          "base_uri": "https://localhost:8080/"
        },
        "id": "2yYdbOFE4I5_",
        "outputId": "6e6e9526-8f45-459d-9dc0-bef13f319158"
      },
      "execution_count": null,
      "outputs": [
        {
          "output_type": "stream",
          "name": "stdout",
          "text": [
            "chlalstjr\n",
            "9\n"
          ]
        }
      ]
    },
    {
      "cell_type": "code",
      "source": [
        "print(type(dlfmarlfdl))"
      ],
      "metadata": {
        "colab": {
          "base_uri": "https://localhost:8080/"
        },
        "id": "gvzFa_kL4t_6",
        "outputId": "e82c1712-1a37-49cc-ea9f-0138b725792e"
      },
      "execution_count": null,
      "outputs": [
        {
          "output_type": "stream",
          "name": "stdout",
          "text": [
            "<class 'int'>\n"
          ]
        }
      ]
    },
    {
      "cell_type": "code",
      "source": [
        "print([1,2,3,4,5])"
      ],
      "metadata": {
        "colab": {
          "base_uri": "https://localhost:8080/"
        },
        "id": "9fnfcQrh5Ot2",
        "outputId": "f50116ee-ab92-4729-9f58-1c474c1ca15e"
      },
      "execution_count": null,
      "outputs": [
        {
          "output_type": "stream",
          "name": "stdout",
          "text": [
            "[1, 2, 3, 4, 5]\n"
          ]
        }
      ]
    },
    {
      "cell_type": "code",
      "source": [
        "배열=[-1,10.2,\"이름\",[1,2,3]]\n",
        "print(배열)"
      ],
      "metadata": {
        "colab": {
          "base_uri": "https://localhost:8080/"
        },
        "id": "HqjY6Nlc9Izb",
        "outputId": "d02bcb87-6455-42e9-cc9c-2db1f1d1c543"
      },
      "execution_count": null,
      "outputs": [
        {
          "output_type": "stream",
          "name": "stdout",
          "text": [
            "[-1, 10.2, '이름', [1, 2, 3]]\n"
          ]
        }
      ]
    },
    {
      "cell_type": "code",
      "source": [
        "print(배열[0])"
      ],
      "metadata": {
        "colab": {
          "base_uri": "https://localhost:8080/"
        },
        "id": "9jdRa8bn9bpX",
        "outputId": "021cbd7c-cb42-43e4-9e02-c32a1579af54"
      },
      "execution_count": null,
      "outputs": [
        {
          "output_type": "stream",
          "name": "stdout",
          "text": [
            "-1\n"
          ]
        }
      ]
    },
    {
      "cell_type": "code",
      "source": [
        "print(배열[2])"
      ],
      "metadata": {
        "colab": {
          "base_uri": "https://localhost:8080/"
        },
        "id": "q4VCwtme9l_j",
        "outputId": "eb23df11-16ec-4e99-d862-dedc19af58c4"
      },
      "execution_count": null,
      "outputs": [
        {
          "output_type": "stream",
          "name": "stdout",
          "text": [
            "이름\n"
          ]
        }
      ]
    },
    {
      "cell_type": "code",
      "source": [
        "print(배열[3])"
      ],
      "metadata": {
        "colab": {
          "base_uri": "https://localhost:8080/"
        },
        "id": "-c_i_ipz9xa1",
        "outputId": "9b37434b-3c87-4bfa-8cfa-4a86121db714"
      },
      "execution_count": null,
      "outputs": [
        {
          "output_type": "stream",
          "name": "stdout",
          "text": [
            "[1, 2, 3]\n"
          ]
        }
      ]
    },
    {
      "cell_type": "code",
      "source": [
        "print(배열[3][1])"
      ],
      "metadata": {
        "colab": {
          "base_uri": "https://localhost:8080/"
        },
        "id": "0413L_8v95Z1",
        "outputId": "b5a63fbf-ceb5-4776-8369-07fb65629dca"
      },
      "execution_count": null,
      "outputs": [
        {
          "output_type": "stream",
          "name": "stdout",
          "text": [
            "2\n"
          ]
        }
      ]
    },
    {
      "cell_type": "code",
      "source": [
        "print(배열[len(배열)-1])"
      ],
      "metadata": {
        "colab": {
          "base_uri": "https://localhost:8080/"
        },
        "id": "0yQ6manu-B5-",
        "outputId": "539cce2d-2ceb-4408-d039-b685716f33d6"
      },
      "execution_count": null,
      "outputs": [
        {
          "output_type": "stream",
          "name": "stdout",
          "text": [
            "[1, 2, 3]\n"
          ]
        }
      ]
    },
    {
      "cell_type": "code",
      "source": [
        "print(배열[-1])"
      ],
      "metadata": {
        "colab": {
          "base_uri": "https://localhost:8080/"
        },
        "id": "HFwrBkYw-bL4",
        "outputId": "18423541-2c86-46ce-d415-604382267784"
      },
      "execution_count": null,
      "outputs": [
        {
          "output_type": "stream",
          "name": "stdout",
          "text": [
            "[1, 2, 3]\n"
          ]
        }
      ]
    },
    {
      "cell_type": "code",
      "source": [
        "print(배열)"
      ],
      "metadata": {
        "colab": {
          "base_uri": "https://localhost:8080/"
        },
        "id": "2PN4Ck7i-p5M",
        "outputId": "2c287b5f-8ccf-4ba4-a485-b88af18a975e"
      },
      "execution_count": null,
      "outputs": [
        {
          "output_type": "stream",
          "name": "stdout",
          "text": [
            "[-1, 10.2, '이름', [1, 2, 3]]\n"
          ]
        }
      ]
    },
    {
      "cell_type": "code",
      "source": [
        "print(배열[1:3])"
      ],
      "metadata": {
        "colab": {
          "base_uri": "https://localhost:8080/"
        },
        "id": "0Wd9B9JH-v93",
        "outputId": "faf13680-875c-49d2-8b97-9e19c40b64d0"
      },
      "execution_count": null,
      "outputs": [
        {
          "output_type": "stream",
          "name": "stdout",
          "text": [
            "[10.2, '이름']\n"
          ]
        }
      ]
    },
    {
      "cell_type": "code",
      "source": [
        "배열[-1]=10\n",
        "print(배열)"
      ],
      "metadata": {
        "colab": {
          "base_uri": "https://localhost:8080/"
        },
        "id": "KWyIMkTW-5Nd",
        "outputId": "357764a3-078e-454d-aafe-70a8d5926b7d"
      },
      "execution_count": null,
      "outputs": [
        {
          "output_type": "stream",
          "name": "stdout",
          "text": [
            "[-1, 10.2, '이름', 10]\n"
          ]
        }
      ]
    },
    {
      "cell_type": "code",
      "source": [
        "배열[:][-1]=[1,2,3]"
      ],
      "metadata": {
        "id": "GV7ExBvX_Pm8"
      },
      "execution_count": null,
      "outputs": []
    },
    {
      "cell_type": "code",
      "source": [
        "print(배열)"
      ],
      "metadata": {
        "colab": {
          "base_uri": "https://localhost:8080/"
        },
        "id": "FSC4k9y-_W2F",
        "outputId": "6506e4a1-e8c0-4dc2-88ba-dc2ad00c7691"
      },
      "execution_count": null,
      "outputs": [
        {
          "output_type": "stream",
          "name": "stdout",
          "text": [
            "[-1, 10.2, '이름', 10]\n"
          ]
        }
      ]
    },
    {
      "cell_type": "code",
      "source": [
        "문제=\"01033334444\"\n",
        "print(len(문제[:-4])*\"*\"+문제[-4:])"
      ],
      "metadata": {
        "colab": {
          "base_uri": "https://localhost:8080/"
        },
        "id": "bRBhk5gP_eOV",
        "outputId": "5d26634d-4ef4-4f9c-9d7b-56231796da95"
      },
      "execution_count": null,
      "outputs": [
        {
          "output_type": "stream",
          "name": "stdout",
          "text": [
            "*******4444\n"
          ]
        }
      ]
    },
    {
      "cell_type": "code",
      "source": [
        "print(문제[0:-5])"
      ],
      "metadata": {
        "colab": {
          "base_uri": "https://localhost:8080/"
        },
        "id": "1GXBlJ_oGL15",
        "outputId": "13b58d1b-b2b5-42e9-9b6e-c0df4ccdc58d"
      },
      "execution_count": null,
      "outputs": [
        {
          "output_type": "stream",
          "name": "stdout",
          "text": [
            "010333\n"
          ]
        }
      ]
    },
    {
      "cell_type": "code",
      "source": [
        ""
      ],
      "metadata": {
        "id": "qMqZmfgEGauc"
      },
      "execution_count": null,
      "outputs": []
    }
  ]
}